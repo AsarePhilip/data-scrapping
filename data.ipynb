{
 "cells": [
  {
   "cell_type": "code",
   "execution_count": 203,
   "metadata": {},
   "outputs": [],
   "source": [
    "import requests\n",
    "import numpy as np\n",
    "import pandas as pd\n",
    "from bs4 import BeautifulSoup"
   ]
  },
  {
   "cell_type": "code",
   "execution_count": 267,
   "metadata": {},
   "outputs": [],
   "source": [
    "web_page = requests.get('https://en.wikipedia.org/wiki/Road_safety_in_Europe')\n",
    "#print(web_page.status_code)"
   ]
  },
  {
   "cell_type": "code",
   "execution_count": 268,
   "metadata": {},
   "outputs": [],
   "source": [
    "#Get all Tables in webpage\n",
    "soup = BeautifulSoup(web_page.content, 'html.parser')\n",
    "tables = soup.find_all(\"table\", \"wikitable\")\n",
    "#print(len(tables))"
   ]
  },
  {
   "cell_type": "code",
   "execution_count": 269,
   "metadata": {},
   "outputs": [],
   "source": [
    "#Select the European Union Road Safety Facts and Figures table\n",
    "for table in tables:\n",
    "    if table.caption  != None :\n",
    "        if  table.caption.text.strip() == \"European Union Road Safety Facts and Figures\":\n",
    "            selected_table = table;\n",
    "            break"
   ]
  },
  {
   "cell_type": "code",
   "execution_count": 270,
   "metadata": {},
   "outputs": [],
   "source": [
    "#Table Column names\n",
    "headings = [ 'Country', 'Area', 'Population', 'GDP per capita', 'Population density', \n",
    "            'Vehicle ownership','Road Network Lenght' ,\n",
    "            'Total road deaths','Road deaths per Million Inhabitants', 'Killed', 'Injury']"
   ]
  },
  {
   "cell_type": "code",
   "execution_count": 271,
   "metadata": {},
   "outputs": [],
   "source": [
    "#Get Records in table\n",
    "records = []\n",
    "for x in range(1, len(row)-1):\n",
    "    record = row[x]\n",
    "    refined_record=[]\n",
    "    for value in record:\n",
    "        if value.__class__.__name__ == 'Tag':\n",
    "            refined_record.append(value.text.strip())\n",
    "    records.append(refined_record)\n"
   ]
  },
  {
   "cell_type": "code",
   "execution_count": 292,
   "metadata": {},
   "outputs": [],
   "source": [
    "df = pd.DataFrame(records, columns=headings)\n",
    "df['Year'] = 2017\n",
    "df2 = df.iloc[:,[0,11,1,2,3,4,5,7,8]]\n",
    "data = df2.sort_values('Road deaths per Million Inhabitants' , ignore_index=True)\n",
    "data.to_csv('data.csv')"
   ]
  },
  {
   "cell_type": "code",
   "execution_count": null,
   "metadata": {},
   "outputs": [],
   "source": []
  }
 ],
 "metadata": {
  "kernelspec": {
   "display_name": "Python 3",
   "language": "python",
   "name": "python3"
  },
  "language_info": {
   "codemirror_mode": {
    "name": "ipython",
    "version": 3
   },
   "file_extension": ".py",
   "mimetype": "text/x-python",
   "name": "python",
   "nbconvert_exporter": "python",
   "pygments_lexer": "ipython3",
   "version": "3.6.9"
  }
 },
 "nbformat": 4,
 "nbformat_minor": 2
}
